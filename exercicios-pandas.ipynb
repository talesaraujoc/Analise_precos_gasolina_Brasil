{
 "cells": [
  {
   "attachments": {},
   "cell_type": "markdown",
   "id": "eb29fb7a-5c3a-46df-a5f9-627148c66351",
   "metadata": {},
   "source": [
    "## Exercícios"
   ]
  },
  {
   "attachments": {},
   "cell_type": "markdown",
   "id": "ad2f7eba-5091-4fec-b113-487186883a09",
   "metadata": {},
   "source": [
    "Link para Dataset: https://www.kaggle.com/datasets/matheusfreitag/gas-prices-in-brazil"
   ]
  },
  {
   "cell_type": "code",
   "execution_count": 2,
   "id": "d0e9c6b9-3840-47a5-956f-9954b612c657",
   "metadata": {},
   "outputs": [],
   "source": [
    "import pandas as pd"
   ]
  },
  {
   "attachments": {},
   "cell_type": "markdown",
   "id": "76366baf-6608-4ad2-b14b-ff048e5adb90",
   "metadata": {},
   "source": [
    "## Neste projeto, trabalharemos com dois arquivos csvs separados, contendo informações sobre o preço da gasolina no Brasil. \n",
    "\n",
    "### 1. Carregue os conjuntos de dados \"gasolina_2000+.csv\" e \"gasolina_2010+.csv\" em dois DataFrames diferentes e combine-os em um único DataFrame."
   ]
  },
  {
   "cell_type": "code",
   "execution_count": 3,
   "id": "c7decfae-2c39-48fb-8412-6dd2e789f28e",
   "metadata": {},
   "outputs": [
    {
     "name": "stderr",
     "output_type": "stream",
     "text": [
      "C:\\Users\\Tales\\AppData\\Local\\Temp\\ipykernel_10488\\2299748977.py:2: DtypeWarning: Columns (12,14,15,16,17,18) have mixed types. Specify dtype option on import or set low_memory=False.\n",
      "  df_2010 = pd.read_csv('gasolina_2010+.csv')\n"
     ]
    }
   ],
   "source": [
    "df_2000 = pd.read_csv('gasolina_2000+.csv')\n",
    "df_2010 = pd.read_csv('gasolina_2010+.csv')\n"
   ]
  },
  {
   "attachments": {},
   "cell_type": "markdown",
   "id": "6cd74f39-565b-47ea-9171-9679eb964b1c",
   "metadata": {},
   "source": [
    "### 2.Investigue as colunas e entenda o conjunto de dados usando o head() e info()"
   ]
  },
  {
   "cell_type": "code",
   "execution_count": 8,
   "id": "e2dd10d8",
   "metadata": {},
   "outputs": [],
   "source": [
    "df_2000.drop('Unnamed: 0', axis=1, inplace=True)"
   ]
  },
  {
   "cell_type": "code",
   "execution_count": 15,
   "id": "4d52ec98",
   "metadata": {},
   "outputs": [],
   "source": [
    "df_2010.drop('Unnamed: 0', axis=1, inplace=True)"
   ]
  },
  {
   "cell_type": "code",
   "execution_count": 9,
   "id": "422a52e3",
   "metadata": {},
   "outputs": [
    {
     "name": "stdout",
     "output_type": "stream",
     "text": [
      "<class 'pandas.core.frame.DataFrame'>\n",
      "RangeIndex: 42638 entries, 0 to 42637\n",
      "Data columns (total 18 columns):\n",
      " #   Column                         Non-Null Count  Dtype  \n",
      "---  ------                         --------------  -----  \n",
      " 0   DATA INICIAL                   42638 non-null  object \n",
      " 1   DATA FINAL                     42638 non-null  object \n",
      " 2   REGIÃO                         42638 non-null  object \n",
      " 3   ESTADO                         42638 non-null  object \n",
      " 4   PRODUTO                        42638 non-null  object \n",
      " 5   NÚMERO DE POSTOS PESQUISADOS   42638 non-null  int64  \n",
      " 6   UNIDADE DE MEDIDA              42638 non-null  object \n",
      " 7   PREÇO MÉDIO REVENDA            42638 non-null  float64\n",
      " 8   DESVIO PADRÃO REVENDA          42638 non-null  float64\n",
      " 9   PREÇO MÍNIMO REVENDA           42638 non-null  float64\n",
      " 10  PREÇO MÁXIMO REVENDA           42638 non-null  float64\n",
      " 11  MARGEM MÉDIA REVENDA           42638 non-null  object \n",
      " 12  COEF DE VARIAÇÃO REVENDA       42638 non-null  float64\n",
      " 13  PREÇO MÉDIO DISTRIBUIÇÃO       42638 non-null  object \n",
      " 14  DESVIO PADRÃO DISTRIBUIÇÃO     42638 non-null  object \n",
      " 15  PREÇO MÍNIMO DISTRIBUIÇÃO      42638 non-null  object \n",
      " 16  PREÇO MÁXIMO DISTRIBUIÇÃO      42638 non-null  object \n",
      " 17  COEF DE VARIAÇÃO DISTRIBUIÇÃO  42638 non-null  object \n",
      "dtypes: float64(5), int64(1), object(12)\n",
      "memory usage: 5.9+ MB\n"
     ]
    }
   ],
   "source": [
    "df_2000.info()"
   ]
  },
  {
   "cell_type": "code",
   "execution_count": 11,
   "id": "41659bf2",
   "metadata": {},
   "outputs": [],
   "source": [
    "df_2000.index.name='index_name'"
   ]
  },
  {
   "cell_type": "code",
   "execution_count": 16,
   "id": "e9c3c26b",
   "metadata": {},
   "outputs": [],
   "source": [
    "df_2010.index.name='index_name'"
   ]
  },
  {
   "cell_type": "code",
   "execution_count": 14,
   "id": "d041b913",
   "metadata": {},
   "outputs": [
    {
     "data": {
      "text/html": [
       "<div>\n",
       "<style scoped>\n",
       "    .dataframe tbody tr th:only-of-type {\n",
       "        vertical-align: middle;\n",
       "    }\n",
       "\n",
       "    .dataframe tbody tr th {\n",
       "        vertical-align: top;\n",
       "    }\n",
       "\n",
       "    .dataframe thead th {\n",
       "        text-align: right;\n",
       "    }\n",
       "</style>\n",
       "<table border=\"1\" class=\"dataframe\">\n",
       "  <thead>\n",
       "    <tr style=\"text-align: right;\">\n",
       "      <th></th>\n",
       "      <th>DATA INICIAL</th>\n",
       "      <th>DATA FINAL</th>\n",
       "      <th>REGIÃO</th>\n",
       "      <th>ESTADO</th>\n",
       "      <th>PRODUTO</th>\n",
       "      <th>NÚMERO DE POSTOS PESQUISADOS</th>\n",
       "      <th>UNIDADE DE MEDIDA</th>\n",
       "      <th>PREÇO MÉDIO REVENDA</th>\n",
       "      <th>DESVIO PADRÃO REVENDA</th>\n",
       "      <th>PREÇO MÍNIMO REVENDA</th>\n",
       "      <th>PREÇO MÁXIMO REVENDA</th>\n",
       "      <th>MARGEM MÉDIA REVENDA</th>\n",
       "      <th>COEF DE VARIAÇÃO REVENDA</th>\n",
       "      <th>PREÇO MÉDIO DISTRIBUIÇÃO</th>\n",
       "      <th>DESVIO PADRÃO DISTRIBUIÇÃO</th>\n",
       "      <th>PREÇO MÍNIMO DISTRIBUIÇÃO</th>\n",
       "      <th>PREÇO MÁXIMO DISTRIBUIÇÃO</th>\n",
       "      <th>COEF DE VARIAÇÃO DISTRIBUIÇÃO</th>\n",
       "    </tr>\n",
       "    <tr>\n",
       "      <th>index_name</th>\n",
       "      <th></th>\n",
       "      <th></th>\n",
       "      <th></th>\n",
       "      <th></th>\n",
       "      <th></th>\n",
       "      <th></th>\n",
       "      <th></th>\n",
       "      <th></th>\n",
       "      <th></th>\n",
       "      <th></th>\n",
       "      <th></th>\n",
       "      <th></th>\n",
       "      <th></th>\n",
       "      <th></th>\n",
       "      <th></th>\n",
       "      <th></th>\n",
       "      <th></th>\n",
       "      <th></th>\n",
       "    </tr>\n",
       "  </thead>\n",
       "  <tbody>\n",
       "    <tr>\n",
       "      <th>0</th>\n",
       "      <td>2004-05-09</td>\n",
       "      <td>2004-05-15</td>\n",
       "      <td>CENTRO OESTE</td>\n",
       "      <td>DISTRITO FEDERAL</td>\n",
       "      <td>ETANOL HIDRATADO</td>\n",
       "      <td>127</td>\n",
       "      <td>R$/l</td>\n",
       "      <td>1.288</td>\n",
       "      <td>0.016</td>\n",
       "      <td>1.19</td>\n",
       "      <td>1.350</td>\n",
       "      <td>0.463</td>\n",
       "      <td>0.012</td>\n",
       "      <td>0.825</td>\n",
       "      <td>0.11</td>\n",
       "      <td>0.4201</td>\n",
       "      <td>0.9666</td>\n",
       "      <td>0.133</td>\n",
       "    </tr>\n",
       "    <tr>\n",
       "      <th>1</th>\n",
       "      <td>2004-05-09</td>\n",
       "      <td>2004-05-15</td>\n",
       "      <td>CENTRO OESTE</td>\n",
       "      <td>GOIAS</td>\n",
       "      <td>ETANOL HIDRATADO</td>\n",
       "      <td>387</td>\n",
       "      <td>R$/l</td>\n",
       "      <td>1.162</td>\n",
       "      <td>0.114</td>\n",
       "      <td>0.89</td>\n",
       "      <td>1.449</td>\n",
       "      <td>0.399</td>\n",
       "      <td>0.098</td>\n",
       "      <td>0.763</td>\n",
       "      <td>0.088</td>\n",
       "      <td>0.5013</td>\n",
       "      <td>1.05</td>\n",
       "      <td>0.115</td>\n",
       "    </tr>\n",
       "    <tr>\n",
       "      <th>2</th>\n",
       "      <td>2004-05-09</td>\n",
       "      <td>2004-05-15</td>\n",
       "      <td>CENTRO OESTE</td>\n",
       "      <td>MATO GROSSO</td>\n",
       "      <td>ETANOL HIDRATADO</td>\n",
       "      <td>192</td>\n",
       "      <td>R$/l</td>\n",
       "      <td>1.389</td>\n",
       "      <td>0.097</td>\n",
       "      <td>1.18</td>\n",
       "      <td>1.760</td>\n",
       "      <td>0.419</td>\n",
       "      <td>0.070</td>\n",
       "      <td>0.97</td>\n",
       "      <td>0.095</td>\n",
       "      <td>0.5614</td>\n",
       "      <td>1.161</td>\n",
       "      <td>0.098</td>\n",
       "    </tr>\n",
       "    <tr>\n",
       "      <th>3</th>\n",
       "      <td>2004-05-09</td>\n",
       "      <td>2004-05-15</td>\n",
       "      <td>CENTRO OESTE</td>\n",
       "      <td>MATO GROSSO DO SUL</td>\n",
       "      <td>ETANOL HIDRATADO</td>\n",
       "      <td>162</td>\n",
       "      <td>R$/l</td>\n",
       "      <td>1.262</td>\n",
       "      <td>0.070</td>\n",
       "      <td>1.09</td>\n",
       "      <td>1.509</td>\n",
       "      <td>0.432</td>\n",
       "      <td>0.055</td>\n",
       "      <td>0.83</td>\n",
       "      <td>0.119</td>\n",
       "      <td>0.5991</td>\n",
       "      <td>1.22242</td>\n",
       "      <td>0.143</td>\n",
       "    </tr>\n",
       "    <tr>\n",
       "      <th>4</th>\n",
       "      <td>2004-05-09</td>\n",
       "      <td>2004-05-15</td>\n",
       "      <td>NORDESTE</td>\n",
       "      <td>ALAGOAS</td>\n",
       "      <td>ETANOL HIDRATADO</td>\n",
       "      <td>103</td>\n",
       "      <td>R$/l</td>\n",
       "      <td>1.181</td>\n",
       "      <td>0.078</td>\n",
       "      <td>1.05</td>\n",
       "      <td>1.400</td>\n",
       "      <td>0.24</td>\n",
       "      <td>0.066</td>\n",
       "      <td>0.941</td>\n",
       "      <td>0.077</td>\n",
       "      <td>0.7441</td>\n",
       "      <td>1.0317</td>\n",
       "      <td>0.082</td>\n",
       "    </tr>\n",
       "  </tbody>\n",
       "</table>\n",
       "</div>"
      ],
      "text/plain": [
       "           DATA INICIAL  DATA FINAL        REGIÃO              ESTADO  \\\n",
       "index_name                                                              \n",
       "0            2004-05-09  2004-05-15  CENTRO OESTE    DISTRITO FEDERAL   \n",
       "1            2004-05-09  2004-05-15  CENTRO OESTE               GOIAS   \n",
       "2            2004-05-09  2004-05-15  CENTRO OESTE         MATO GROSSO   \n",
       "3            2004-05-09  2004-05-15  CENTRO OESTE  MATO GROSSO DO SUL   \n",
       "4            2004-05-09  2004-05-15      NORDESTE             ALAGOAS   \n",
       "\n",
       "                     PRODUTO  NÚMERO DE POSTOS PESQUISADOS UNIDADE DE MEDIDA  \\\n",
       "index_name                                                                     \n",
       "0           ETANOL HIDRATADO                           127              R$/l   \n",
       "1           ETANOL HIDRATADO                           387              R$/l   \n",
       "2           ETANOL HIDRATADO                           192              R$/l   \n",
       "3           ETANOL HIDRATADO                           162              R$/l   \n",
       "4           ETANOL HIDRATADO                           103              R$/l   \n",
       "\n",
       "            PREÇO MÉDIO REVENDA  DESVIO PADRÃO REVENDA  PREÇO MÍNIMO REVENDA  \\\n",
       "index_name                                                                     \n",
       "0                         1.288                  0.016                  1.19   \n",
       "1                         1.162                  0.114                  0.89   \n",
       "2                         1.389                  0.097                  1.18   \n",
       "3                         1.262                  0.070                  1.09   \n",
       "4                         1.181                  0.078                  1.05   \n",
       "\n",
       "            PREÇO MÁXIMO REVENDA MARGEM MÉDIA REVENDA  \\\n",
       "index_name                                              \n",
       "0                          1.350                0.463   \n",
       "1                          1.449                0.399   \n",
       "2                          1.760                0.419   \n",
       "3                          1.509                0.432   \n",
       "4                          1.400                 0.24   \n",
       "\n",
       "            COEF DE VARIAÇÃO REVENDA PREÇO MÉDIO DISTRIBUIÇÃO  \\\n",
       "index_name                                                      \n",
       "0                              0.012                    0.825   \n",
       "1                              0.098                    0.763   \n",
       "2                              0.070                     0.97   \n",
       "3                              0.055                     0.83   \n",
       "4                              0.066                    0.941   \n",
       "\n",
       "           DESVIO PADRÃO DISTRIBUIÇÃO PREÇO MÍNIMO DISTRIBUIÇÃO  \\\n",
       "index_name                                                        \n",
       "0                                0.11                    0.4201   \n",
       "1                               0.088                    0.5013   \n",
       "2                               0.095                    0.5614   \n",
       "3                               0.119                    0.5991   \n",
       "4                               0.077                    0.7441   \n",
       "\n",
       "           PREÇO MÁXIMO DISTRIBUIÇÃO COEF DE VARIAÇÃO DISTRIBUIÇÃO  \n",
       "index_name                                                          \n",
       "0                             0.9666                         0.133  \n",
       "1                               1.05                         0.115  \n",
       "2                              1.161                         0.098  \n",
       "3                            1.22242                         0.143  \n",
       "4                             1.0317                         0.082  "
      ]
     },
     "execution_count": 14,
     "metadata": {},
     "output_type": "execute_result"
    }
   ],
   "source": [
    "df_2000.head(5)"
   ]
  },
  {
   "cell_type": "code",
   "execution_count": 17,
   "id": "275d6974",
   "metadata": {},
   "outputs": [
    {
     "data": {
      "text/html": [
       "<div>\n",
       "<style scoped>\n",
       "    .dataframe tbody tr th:only-of-type {\n",
       "        vertical-align: middle;\n",
       "    }\n",
       "\n",
       "    .dataframe tbody tr th {\n",
       "        vertical-align: top;\n",
       "    }\n",
       "\n",
       "    .dataframe thead th {\n",
       "        text-align: right;\n",
       "    }\n",
       "</style>\n",
       "<table border=\"1\" class=\"dataframe\">\n",
       "  <thead>\n",
       "    <tr style=\"text-align: right;\">\n",
       "      <th></th>\n",
       "      <th>DATA INICIAL</th>\n",
       "      <th>DATA FINAL</th>\n",
       "      <th>REGIÃO</th>\n",
       "      <th>ESTADO</th>\n",
       "      <th>PRODUTO</th>\n",
       "      <th>NÚMERO DE POSTOS PESQUISADOS</th>\n",
       "      <th>UNIDADE DE MEDIDA</th>\n",
       "      <th>PREÇO MÉDIO REVENDA</th>\n",
       "      <th>DESVIO PADRÃO REVENDA</th>\n",
       "      <th>PREÇO MÍNIMO REVENDA</th>\n",
       "      <th>PREÇO MÁXIMO REVENDA</th>\n",
       "      <th>MARGEM MÉDIA REVENDA</th>\n",
       "      <th>COEF DE VARIAÇÃO REVENDA</th>\n",
       "      <th>PREÇO MÉDIO DISTRIBUIÇÃO</th>\n",
       "      <th>DESVIO PADRÃO DISTRIBUIÇÃO</th>\n",
       "      <th>PREÇO MÍNIMO DISTRIBUIÇÃO</th>\n",
       "      <th>PREÇO MÁXIMO DISTRIBUIÇÃO</th>\n",
       "      <th>COEF DE VARIAÇÃO DISTRIBUIÇÃO</th>\n",
       "    </tr>\n",
       "    <tr>\n",
       "      <th>index_name</th>\n",
       "      <th></th>\n",
       "      <th></th>\n",
       "      <th></th>\n",
       "      <th></th>\n",
       "      <th></th>\n",
       "      <th></th>\n",
       "      <th></th>\n",
       "      <th></th>\n",
       "      <th></th>\n",
       "      <th></th>\n",
       "      <th></th>\n",
       "      <th></th>\n",
       "      <th></th>\n",
       "      <th></th>\n",
       "      <th></th>\n",
       "      <th></th>\n",
       "      <th></th>\n",
       "      <th></th>\n",
       "    </tr>\n",
       "  </thead>\n",
       "  <tbody>\n",
       "    <tr>\n",
       "      <th>0</th>\n",
       "      <td>2011-01-02</td>\n",
       "      <td>2011-01-08</td>\n",
       "      <td>CENTRO OESTE</td>\n",
       "      <td>DISTRITO FEDERAL</td>\n",
       "      <td>ETANOL HIDRATADO</td>\n",
       "      <td>80</td>\n",
       "      <td>R$/l</td>\n",
       "      <td>2.030</td>\n",
       "      <td>0.003</td>\n",
       "      <td>2.020</td>\n",
       "      <td>2.050</td>\n",
       "      <td>0.411</td>\n",
       "      <td>0.001</td>\n",
       "      <td>1.619</td>\n",
       "      <td>0.013</td>\n",
       "      <td>1.6111</td>\n",
       "      <td>1.6411</td>\n",
       "      <td>0.008</td>\n",
       "    </tr>\n",
       "    <tr>\n",
       "      <th>1</th>\n",
       "      <td>2011-01-02</td>\n",
       "      <td>2011-01-08</td>\n",
       "      <td>CENTRO OESTE</td>\n",
       "      <td>GOIAS</td>\n",
       "      <td>ETANOL HIDRATADO</td>\n",
       "      <td>255</td>\n",
       "      <td>R$/l</td>\n",
       "      <td>1.717</td>\n",
       "      <td>0.102</td>\n",
       "      <td>1.490</td>\n",
       "      <td>1.990</td>\n",
       "      <td>0.225</td>\n",
       "      <td>0.059</td>\n",
       "      <td>1.492</td>\n",
       "      <td>0.069</td>\n",
       "      <td>1.3221</td>\n",
       "      <td>1.6201</td>\n",
       "      <td>0.046</td>\n",
       "    </tr>\n",
       "    <tr>\n",
       "      <th>2</th>\n",
       "      <td>2011-01-02</td>\n",
       "      <td>2011-01-08</td>\n",
       "      <td>CENTRO OESTE</td>\n",
       "      <td>MATO GROSSO</td>\n",
       "      <td>ETANOL HIDRATADO</td>\n",
       "      <td>141</td>\n",
       "      <td>R$/l</td>\n",
       "      <td>1.848</td>\n",
       "      <td>0.148</td>\n",
       "      <td>1.590</td>\n",
       "      <td>2.490</td>\n",
       "      <td>0.326</td>\n",
       "      <td>0.080</td>\n",
       "      <td>1.522</td>\n",
       "      <td>0.105</td>\n",
       "      <td>1.2833</td>\n",
       "      <td>1.7486</td>\n",
       "      <td>0.069</td>\n",
       "    </tr>\n",
       "    <tr>\n",
       "      <th>3</th>\n",
       "      <td>2011-01-02</td>\n",
       "      <td>2011-01-08</td>\n",
       "      <td>CENTRO OESTE</td>\n",
       "      <td>MATO GROSSO DO SUL</td>\n",
       "      <td>ETANOL HIDRATADO</td>\n",
       "      <td>132</td>\n",
       "      <td>R$/l</td>\n",
       "      <td>1.893</td>\n",
       "      <td>0.108</td>\n",
       "      <td>1.699</td>\n",
       "      <td>2.199</td>\n",
       "      <td>0.191</td>\n",
       "      <td>0.057</td>\n",
       "      <td>1.702</td>\n",
       "      <td>0.04</td>\n",
       "      <td>1.5915</td>\n",
       "      <td>1.79</td>\n",
       "      <td>0.024</td>\n",
       "    </tr>\n",
       "    <tr>\n",
       "      <th>4</th>\n",
       "      <td>2011-01-02</td>\n",
       "      <td>2011-01-08</td>\n",
       "      <td>NORDESTE</td>\n",
       "      <td>ALAGOAS</td>\n",
       "      <td>ETANOL HIDRATADO</td>\n",
       "      <td>97</td>\n",
       "      <td>R$/l</td>\n",
       "      <td>2.026</td>\n",
       "      <td>0.084</td>\n",
       "      <td>1.749</td>\n",
       "      <td>2.100</td>\n",
       "      <td>0.268</td>\n",
       "      <td>0.041</td>\n",
       "      <td>1.758</td>\n",
       "      <td>0.042</td>\n",
       "      <td>1.63</td>\n",
       "      <td>1.848</td>\n",
       "      <td>0.024</td>\n",
       "    </tr>\n",
       "  </tbody>\n",
       "</table>\n",
       "</div>"
      ],
      "text/plain": [
       "           DATA INICIAL  DATA FINAL        REGIÃO              ESTADO  \\\n",
       "index_name                                                              \n",
       "0            2011-01-02  2011-01-08  CENTRO OESTE    DISTRITO FEDERAL   \n",
       "1            2011-01-02  2011-01-08  CENTRO OESTE               GOIAS   \n",
       "2            2011-01-02  2011-01-08  CENTRO OESTE         MATO GROSSO   \n",
       "3            2011-01-02  2011-01-08  CENTRO OESTE  MATO GROSSO DO SUL   \n",
       "4            2011-01-02  2011-01-08      NORDESTE             ALAGOAS   \n",
       "\n",
       "                     PRODUTO  NÚMERO DE POSTOS PESQUISADOS UNIDADE DE MEDIDA  \\\n",
       "index_name                                                                     \n",
       "0           ETANOL HIDRATADO                            80              R$/l   \n",
       "1           ETANOL HIDRATADO                           255              R$/l   \n",
       "2           ETANOL HIDRATADO                           141              R$/l   \n",
       "3           ETANOL HIDRATADO                           132              R$/l   \n",
       "4           ETANOL HIDRATADO                            97              R$/l   \n",
       "\n",
       "            PREÇO MÉDIO REVENDA  DESVIO PADRÃO REVENDA  PREÇO MÍNIMO REVENDA  \\\n",
       "index_name                                                                     \n",
       "0                         2.030                  0.003                 2.020   \n",
       "1                         1.717                  0.102                 1.490   \n",
       "2                         1.848                  0.148                 1.590   \n",
       "3                         1.893                  0.108                 1.699   \n",
       "4                         2.026                  0.084                 1.749   \n",
       "\n",
       "            PREÇO MÁXIMO REVENDA MARGEM MÉDIA REVENDA  \\\n",
       "index_name                                              \n",
       "0                          2.050                0.411   \n",
       "1                          1.990                0.225   \n",
       "2                          2.490                0.326   \n",
       "3                          2.199                0.191   \n",
       "4                          2.100                0.268   \n",
       "\n",
       "            COEF DE VARIAÇÃO REVENDA PREÇO MÉDIO DISTRIBUIÇÃO  \\\n",
       "index_name                                                      \n",
       "0                              0.001                    1.619   \n",
       "1                              0.059                    1.492   \n",
       "2                              0.080                    1.522   \n",
       "3                              0.057                    1.702   \n",
       "4                              0.041                    1.758   \n",
       "\n",
       "           DESVIO PADRÃO DISTRIBUIÇÃO PREÇO MÍNIMO DISTRIBUIÇÃO  \\\n",
       "index_name                                                        \n",
       "0                               0.013                    1.6111   \n",
       "1                               0.069                    1.3221   \n",
       "2                               0.105                    1.2833   \n",
       "3                                0.04                    1.5915   \n",
       "4                               0.042                      1.63   \n",
       "\n",
       "           PREÇO MÁXIMO DISTRIBUIÇÃO COEF DE VARIAÇÃO DISTRIBUIÇÃO  \n",
       "index_name                                                          \n",
       "0                             1.6411                         0.008  \n",
       "1                             1.6201                         0.046  \n",
       "2                             1.7486                         0.069  \n",
       "3                               1.79                         0.024  \n",
       "4                              1.848                         0.024  "
      ]
     },
     "execution_count": 17,
     "metadata": {},
     "output_type": "execute_result"
    }
   ],
   "source": [
    "df_2010.head(5)"
   ]
  },
  {
   "attachments": {},
   "cell_type": "markdown",
   "id": "2bcb2d2f-1c32-4583-8981-ca5b6ed0e048",
   "metadata": {},
   "source": [
    "### 3. Selecione a terceira entrada da coluna DATA INICIAL e verifique seu tipo."
   ]
  },
  {
   "cell_type": "code",
   "execution_count": 18,
   "id": "c4399a8c-0ad3-4b6e-bcd8-d701438892fe",
   "metadata": {},
   "outputs": [
    {
     "data": {
      "text/plain": [
       "'2004-05-09'"
      ]
     },
     "execution_count": 18,
     "metadata": {},
     "output_type": "execute_result"
    }
   ],
   "source": []
  },
  {
   "attachments": {},
   "cell_type": "markdown",
   "id": "7eda8c87-eef7-4b66-97ee-46629b214fc7",
   "metadata": {},
   "source": [
    "### 4. Você deve ter percebido que as colunas DATA INICIAL e DATA FINAL estão formatadas como string. Utilizando o método pd.to_datetime(), converta ambas colunas para Timestamp / Datetime."
   ]
  },
  {
   "cell_type": "code",
   "execution_count": 25,
   "id": "6813ae62-bdd0-4f73-8278-7fa0e0027f9c",
   "metadata": {},
   "outputs": [],
   "source": [
    "df_2000['DATA INICIAL']= pd.to_datetime(df_2000['DATA INICIAL'])\n",
    "df_2000['DATA FINAL'] = pd.to_datetime(df_2000['DATA FINAL'])"
   ]
  },
  {
   "cell_type": "code",
   "execution_count": 26,
   "id": "f85efa80",
   "metadata": {},
   "outputs": [
    {
     "name": "stdout",
     "output_type": "stream",
     "text": [
      "<class 'pandas.core.frame.DataFrame'>\n",
      "RangeIndex: 42638 entries, 0 to 42637\n",
      "Data columns (total 18 columns):\n",
      " #   Column                         Non-Null Count  Dtype         \n",
      "---  ------                         --------------  -----         \n",
      " 0   DATA INICIAL                   42638 non-null  datetime64[ns]\n",
      " 1   DATA FINAL                     42638 non-null  datetime64[ns]\n",
      " 2   REGIÃO                         42638 non-null  object        \n",
      " 3   ESTADO                         42638 non-null  object        \n",
      " 4   PRODUTO                        42638 non-null  object        \n",
      " 5   NÚMERO DE POSTOS PESQUISADOS   42638 non-null  int64         \n",
      " 6   UNIDADE DE MEDIDA              42638 non-null  object        \n",
      " 7   PREÇO MÉDIO REVENDA            42638 non-null  float64       \n",
      " 8   DESVIO PADRÃO REVENDA          42638 non-null  float64       \n",
      " 9   PREÇO MÍNIMO REVENDA           42638 non-null  float64       \n",
      " 10  PREÇO MÁXIMO REVENDA           42638 non-null  float64       \n",
      " 11  MARGEM MÉDIA REVENDA           42638 non-null  object        \n",
      " 12  COEF DE VARIAÇÃO REVENDA       42638 non-null  float64       \n",
      " 13  PREÇO MÉDIO DISTRIBUIÇÃO       42638 non-null  object        \n",
      " 14  DESVIO PADRÃO DISTRIBUIÇÃO     42638 non-null  object        \n",
      " 15  PREÇO MÍNIMO DISTRIBUIÇÃO      42638 non-null  object        \n",
      " 16  PREÇO MÁXIMO DISTRIBUIÇÃO      42638 non-null  object        \n",
      " 17  COEF DE VARIAÇÃO DISTRIBUIÇÃO  42638 non-null  object        \n",
      "dtypes: datetime64[ns](2), float64(5), int64(1), object(10)\n",
      "memory usage: 5.9+ MB\n"
     ]
    }
   ],
   "source": [
    "df_2000.info()"
   ]
  },
  {
   "attachments": {},
   "cell_type": "markdown",
   "id": "2f9aaafa-f9a4-4f07-9bc6-86e5911c863c",
   "metadata": {},
   "source": [
    "### 5. Crie uma nova coluna para representar o ano e o mês(aaaa-mm), utilizando a coluna DATA FINAL como referência. "
   ]
  },
  {
   "cell_type": "code",
   "execution_count": null,
   "id": "03f15a92-bae5-4256-add1-a7c97fe9f01d",
   "metadata": {},
   "outputs": [],
   "source": []
  },
  {
   "attachments": {},
   "cell_type": "markdown",
   "id": "7d25e880-b153-4cce-8268-8388c3de52a3",
   "metadata": {},
   "source": [
    "### 6. Utilizando o value_counts(), liste todos os tipos de produtos contidos na base de dados."
   ]
  },
  {
   "cell_type": "code",
   "execution_count": null,
   "id": "f953fa16-59bd-40d9-90c0-af138acb4191",
   "metadata": {},
   "outputs": [],
   "source": []
  },
  {
   "attachments": {},
   "cell_type": "markdown",
   "id": "fab0300f-7c49-48be-b95a-948601713229",
   "metadata": {},
   "source": [
    "### 7. Filtre o DataFrame para obter apenas dados da 'GASOLINA COMUM'. Grave em uma nova variável."
   ]
  },
  {
   "cell_type": "code",
   "execution_count": null,
   "id": "6f1a53ad-2f8e-48b3-b1f3-05698caec5a7",
   "metadata": {},
   "outputs": [],
   "source": []
  },
  {
   "attachments": {},
   "cell_type": "markdown",
   "id": "fb031b0b-51e7-43d7-b2cb-10da05019a73",
   "metadata": {},
   "source": [
    "### 8. Qual o preço médio de revenda da gasolina em agosto de 2008?"
   ]
  },
  {
   "cell_type": "code",
   "execution_count": null,
   "id": "3ba34e10-cc51-4b04-b67a-4245248907ed",
   "metadata": {},
   "outputs": [],
   "source": []
  },
  {
   "attachments": {},
   "cell_type": "markdown",
   "id": "a57428cc-e9e6-48f8-a7f7-27fb9c87bcde",
   "metadata": {},
   "source": [
    "### 9. Qual o preço médio de revenda da gasolina em maio de 2014 em São Paulo?"
   ]
  },
  {
   "cell_type": "code",
   "execution_count": null,
   "id": "e981678b-85db-499a-8466-e24c455ea20c",
   "metadata": {},
   "outputs": [],
   "source": []
  },
  {
   "attachments": {},
   "cell_type": "markdown",
   "id": "6ab2edd0-8bf7-49d7-b3e8-5535ec4a58cf",
   "metadata": {},
   "source": [
    "### 10. Você conseguiria descobrir em qual(quais) estado(s) a gasolina ultrapassou a barreira dos R$ 5,00? E quando isso ocorreu?"
   ]
  },
  {
   "cell_type": "code",
   "execution_count": null,
   "id": "32a9045a-899c-4775-8b66-c0490f3e62a7",
   "metadata": {},
   "outputs": [],
   "source": []
  },
  {
   "attachments": {},
   "cell_type": "markdown",
   "id": "80f4c3a6-ba0e-43b0-a328-91c0aa04348c",
   "metadata": {},
   "source": [
    "### 11. Qual a média de preço dos estados da região sul em 2012?"
   ]
  },
  {
   "cell_type": "code",
   "execution_count": null,
   "id": "e6bbbe89-3dc9-4264-ba31-2ce5aa76054b",
   "metadata": {},
   "outputs": [],
   "source": []
  },
  {
   "attachments": {},
   "cell_type": "markdown",
   "id": "28781cbf-0dba-4512-83df-87537e548c63",
   "metadata": {},
   "source": [
    "### 12. Você conseguiria obter uma tabela contendo a variação percentual ano a ano para o estado do Rio de Janeiro?"
   ]
  },
  {
   "cell_type": "code",
   "execution_count": null,
   "id": "09d2d505-127b-47ff-8fe5-0c6170da3900",
   "metadata": {},
   "outputs": [],
   "source": []
  },
  {
   "attachments": {},
   "cell_type": "markdown",
   "id": "d5e51a54-13f7-4f62-9903-235ac6256b38",
   "metadata": {},
   "source": [
    "### DESAFIO: Crie uma tabela contendo uma serie temporal com a diferença absoluta e percentual entre os valores mais baratos e caros. Apresente também ao lado os estados na qual os maiores e menores preços foram registrados."
   ]
  },
  {
   "cell_type": "code",
   "execution_count": null,
   "id": "82b2263c-99d4-47ac-a7ea-ae5f1057d71f",
   "metadata": {},
   "outputs": [],
   "source": []
  }
 ],
 "metadata": {
  "kernelspec": {
   "display_name": "Python 3 (ipykernel)",
   "language": "python",
   "name": "python3"
  },
  "language_info": {
   "codemirror_mode": {
    "name": "ipython",
    "version": 3
   },
   "file_extension": ".py",
   "mimetype": "text/x-python",
   "name": "python",
   "nbconvert_exporter": "python",
   "pygments_lexer": "ipython3",
   "version": "3.11.2"
  }
 },
 "nbformat": 4,
 "nbformat_minor": 5
}
